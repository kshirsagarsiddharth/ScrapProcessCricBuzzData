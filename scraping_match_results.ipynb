{
 "cells": [
  {
   "cell_type": "code",
   "execution_count": 1,
   "metadata": {},
   "outputs": [],
   "source": [
    "# selenium 4\n",
    "from selenium import webdriver\n",
    "from selenium.webdriver.chrome.service import Service as ChromeService\n",
    "from webdriver_manager.chrome import ChromeDriverManager\n",
    "\n",
    "driver = webdriver.Chrome(service=ChromeService(ChromeDriverManager().install()))\n",
    "driver.get('https://stats.espncricinfo.com/ci/engine/records/team/match_results.html?id=14450;type=tournament')\n",
    "driver.maximize_window()\n",
    "driver.implicitly_wait(10)"
   ]
  },
  {
   "cell_type": "code",
   "execution_count": 2,
   "metadata": {},
   "outputs": [],
   "source": []
  },
  {
   "cell_type": "code",
   "execution_count": 22,
   "metadata": {},
   "outputs": [],
   "source": [
    "def parse_table_element(element):\n",
    "    \"\"\"takes selenium web element and returns parsed version of that element\"\"\"\n",
    "    soup = BeautifulSoup(element.get_attribute('innerHTML'))\n",
    "\n",
    "    text_elements = [el.text for el in soup.find_all('td')]\n",
    "    score_card_link = soup.find_all('a')[-1]['href']\n",
    "    text_elements.append(score_card_link)\n",
    "    \n",
    "    return text_elements"
   ]
  },
  {
   "cell_type": "code",
   "execution_count": 31,
   "metadata": {},
   "outputs": [],
   "source": [
    "outputs = [parse_table_element(element) for element in table_elements]\n",
    "df = pd.DataFrame(outputs)\n",
    "df.columns = ['team_one','team_two','winner','margin','ground','match_date','score_card','score_card_link']\n",
    "df['score_card_link'] = 'https://stats.espncricinfo.com' + df['score_card_link']"
   ]
  },
  {
   "cell_type": "code",
   "execution_count": 33,
   "metadata": {},
   "outputs": [],
   "source": [
    "df.to_csv('match_results.csv', index = None)"
   ]
  },
  {
   "cell_type": "code",
   "execution_count": 29,
   "metadata": {},
   "outputs": [],
   "source": []
  },
  {
   "cell_type": "code",
   "execution_count": null,
   "metadata": {},
   "outputs": [],
   "source": []
  }
 ],
 "metadata": {
  "kernelspec": {
   "display_name": "base",
   "language": "python",
   "name": "python3"
  },
  "language_info": {
   "codemirror_mode": {
    "name": "ipython",
    "version": 3
   },
   "file_extension": ".py",
   "mimetype": "text/x-python",
   "name": "python",
   "nbconvert_exporter": "python",
   "pygments_lexer": "ipython3",
   "version": "3.9.12"
  },
  "orig_nbformat": 4,
  "vscode": {
   "interpreter": {
    "hash": "7c7689ac5d702099295b36bed7990e63059e5bfcb996586cee0200263a0bae1a"
   }
  }
 },
 "nbformat": 4,
 "nbformat_minor": 2
}
