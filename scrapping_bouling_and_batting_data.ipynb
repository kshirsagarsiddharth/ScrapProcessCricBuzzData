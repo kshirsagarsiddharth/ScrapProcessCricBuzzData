{
 "cells": [
  {
   "cell_type": "code",
   "execution_count": 1,
   "metadata": {},
   "outputs": [],
   "source": [
    "# selenium 4\n",
    "from selenium import webdriver\n",
    "from selenium.webdriver.chrome.service import Service as ChromeService\n",
    "from webdriver_manager.chrome import ChromeDriverManager\n",
    "from selenium.common.exceptions import NoSuchElementException\n",
    "from bs4 import BeautifulSoup \n",
    "import pandas as pd\n",
    "from selenium.webdriver.common.by import By \n",
    "from selenium.webdriver.support.wait import WebDriverWait\n",
    "from selenium.webdriver.support import expected_conditions as EC\n",
    "driver = webdriver.Chrome(service=ChromeService(ChromeDriverManager().install()))\n",
    "driver.maximize_window()\n",
    "driver.implicitly_wait(10)\n",
    "driver.set_page_load_timeout(5)"
   ]
  },
  {
   "cell_type": "code",
   "execution_count": 2,
   "metadata": {},
   "outputs": [],
   "source": [
    "df = pd.read_csv('match_results.csv')\n",
    "link = df.sample(1)\n",
    "link2 = link['score_card_link'].iloc[0]\n",
    "driver.get(link2)\n",
    "\n",
    "try:\n",
    "    junk_click_box = WebDriverWait(driver, 15).until(\n",
    "        EC.presence_of_element_located((By.XPATH,'//*[@id=\"wzrk-cancel\"]'))\n",
    "    )\n",
    "    junk_click_box.click()\n",
    "except NoSuchElementException:\n",
    "    print('No Such element')"
   ]
  },
  {
   "cell_type": "code",
   "execution_count": 8,
   "metadata": {},
   "outputs": [],
   "source": [
    "def process_batting_table(xpath):\n",
    "    batting = driver.find_element(By.XPATH,xpath)\n",
    "    batting_outer_html = batting.get_attribute('outerHTML')\n",
    "    batting = pd.read_html(batting_outer_html)[0] \n",
    "    batting = (batting\n",
    "                .dropna(axis = 0, how = 'all')\n",
    "                .dropna(axis = 1, how = 'all')\n",
    "                .rename(columns = {'Unnamed: 1':'Dismissal'})\n",
    "    )\n",
    "    # last 4 elements are junk and delete the last table\n",
    "    return batting.iloc[:-4].dropna(axis = 1, how = 'all')\n",
    "\n",
    "def process_bowling_table(xpath):\n",
    "    bowling = driver.find_element(By.XPATH,xpath)\n",
    "    bowling = pd.read_html(bowling.get_attribute('outerHTML'))[0] \n",
    "    bowling = bowling[~bowling['BOWLING'].str.contains('\\d', regex = True)]\n",
    "    bowling = (bowling\n",
    "                .dropna(axis = 0, how = 'all')\n",
    "                .dropna(axis = 1, how = 'all')\n",
    "    )\n",
    "\n",
    "    return bowling\n"
   ]
  },
  {
   "cell_type": "code",
   "execution_count": 9,
   "metadata": {},
   "outputs": [],
   "source": [
    "team_one_batting_xpath = \"(//table[@class='ds-w-full ds-table ds-table-md ds-table-auto  ci-scorecard-table'])[1]\"\n",
    "team_two_batting_xpath = \"(//table[@class='ds-w-full ds-table ds-table-md ds-table-auto  ci-scorecard-table'])[2]\"\n",
    "team_one_bowling_xpath = '(//table[@class=\"ds-w-full ds-table ds-table-md ds-table-auto \"])[1]'\n",
    "team_two_bowling_xpath = '(//table[@class=\"ds-w-full ds-table ds-table-md ds-table-auto \"])[2]'"
   ]
  },
  {
   "cell_type": "code",
   "execution_count": 10,
   "metadata": {},
   "outputs": [],
   "source": [
    "# process batting \n",
    "batting_one_df = process_batting_table(team_one_batting_xpath)\n",
    "batting_two_df = process_batting_table(team_two_batting_xpath)\n",
    "batting_one_df['team_inning'] = link['team_one'].iloc[0]\n",
    "batting_two_df['team_inning'] = link['team_two'].iloc[0]\n",
    "batting_one_df['match_id'] = link['score_card'].iloc[0]\n",
    "batting_two_df['match_id'] = link['score_card'].iloc[0]\n"
   ]
  },
  {
   "cell_type": "code",
   "execution_count": 11,
   "metadata": {},
   "outputs": [],
   "source": [
    "# process bowling \n",
    "bowling_one_df = process_bowling_table(team_one_bowling_xpath)\n",
    "bowling_two_df =process_bowling_table(team_two_bowling_xpath)\n",
    "bowling_one_df['team_inning'] = link['team_one'].iloc[0]\n",
    "bowling_two_df['team_inning'] = link['team_two'].iloc[0]\n",
    "bowling_one_df['match_id'] = link['score_card'].iloc[0]\n",
    "bowling_two_df['match_id'] = link['score_card'].iloc[0]"
   ]
  },
  {
   "cell_type": "code",
   "execution_count": 12,
   "metadata": {},
   "outputs": [],
   "source": [
    "batting = driver.find_element(By.XPATH,team_one_batting_xpath)"
   ]
  },
  {
   "cell_type": "code",
   "execution_count": 17,
   "metadata": {},
   "outputs": [
    {
     "data": {
      "text/plain": [
       "['/player/kl-rahul-422108',\n",
       " '/player/rohit-sharma-34102',\n",
       " '/player/virat-kohli-253802',\n",
       " '/player/suryakumar-yadav-446507',\n",
       " '/player/hardik-pandya-625371',\n",
       " '/player/rishabh-pant-931581',\n",
       " '/player/ravichandran-ashwin-26421',\n",
       " '/player/axar-patel-554691',\n",
       " '/player/bhuvneshwar-kumar-326016',\n",
       " '/player/mohammed-shami-481896',\n",
       " '/player/arshdeep-singh-1125976']"
      ]
     },
     "execution_count": 17,
     "metadata": {},
     "output_type": "execute_result"
    }
   ],
   "source": [
    "batting_outer_html = batting.get_attribute('outerHTML')\n",
    "batting_soup = BeautifulSoup(batting_outer_html)\n",
    "player_links = batting_soup.find_all(class_ = 'ds-inline-flex ds-items-start ds-leading-none') \n",
    "player_links = [a['href'] for a in player_links]\n",
    "player_links"
   ]
  },
  {
   "cell_type": "code",
   "execution_count": null,
   "metadata": {},
   "outputs": [],
   "source": []
  }
 ],
 "metadata": {
  "kernelspec": {
   "display_name": "base",
   "language": "python",
   "name": "python3"
  },
  "language_info": {
   "codemirror_mode": {
    "name": "ipython",
    "version": 3
   },
   "file_extension": ".py",
   "mimetype": "text/x-python",
   "name": "python",
   "nbconvert_exporter": "python",
   "pygments_lexer": "ipython3",
   "version": "3.9.12"
  },
  "orig_nbformat": 4,
  "vscode": {
   "interpreter": {
    "hash": "7c7689ac5d702099295b36bed7990e63059e5bfcb996586cee0200263a0bae1a"
   }
  }
 },
 "nbformat": 4,
 "nbformat_minor": 2
}
