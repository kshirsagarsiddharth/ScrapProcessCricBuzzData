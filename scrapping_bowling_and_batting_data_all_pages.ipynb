{
 "cells": [
  {
   "cell_type": "code",
   "execution_count": 1,
   "metadata": {},
   "outputs": [],
   "source": [
    "# selenium 4\n",
    "from selenium import webdriver\n",
    "from selenium.webdriver.chrome.service import Service as ChromeService\n",
    "from webdriver_manager.chrome import ChromeDriverManager\n",
    "from selenium.common.exceptions import NoSuchElementException\n",
    "from bs4 import BeautifulSoup\n",
    "import pandas as pd\n",
    "from selenium.webdriver.common.by import By\n",
    "from selenium.webdriver.support.wait import WebDriverWait\n",
    "from selenium.webdriver.support import expected_conditions as EC\n",
    "driver = webdriver.Chrome(service=ChromeService(\n",
    "    ChromeDriverManager().install()))\n",
    "driver.maximize_window()\n",
    "driver.implicitly_wait(10)\n",
    "driver.set_page_load_timeout(5)\n"
   ]
  },
  {
   "cell_type": "code",
   "execution_count": 2,
   "metadata": {},
   "outputs": [],
   "source": [
    "df = pd.read_csv('match_results.csv').iloc[:5]\n",
    "\n",
    "\n",
    "def handle_popup():\n",
    "    try:\n",
    "        junk_click_box = WebDriverWait(driver, 15).until(\n",
    "            EC.presence_of_element_located(\n",
    "                (By.XPATH, '//*[@id=\"wzrk-cancel\"]'))\n",
    "        )\n",
    "        junk_click_box.click()\n",
    "    except NoSuchElementException:\n",
    "        print('No Such element')\n"
   ]
  },
  {
   "cell_type": "code",
   "execution_count": 3,
   "metadata": {},
   "outputs": [],
   "source": [
    "def process_batting_table(xpath):\n",
    "    batting = driver.find_element(By.XPATH, xpath)\n",
    "    batting_outer_html = batting.get_attribute('outerHTML')\n",
    "    batting = pd.read_html(batting_outer_html)[0]\n",
    "    batting = (batting\n",
    "               .dropna(axis=0, how='all')\n",
    "               .dropna(axis=1, how='all')\n",
    "               .rename(columns={'Unnamed: 1': 'Dismissal'})\n",
    "               )\n",
    "    # last 4 elements are junk and delete the last table\n",
    "    batting = batting.iloc[:-4].dropna(axis=1, how='all')\n",
    "    batting_soup = BeautifulSoup(batting_outer_html)\n",
    "\n",
    "    player_links = batting_soup.find_all(\n",
    "        class_='ds-inline-flex ds-items-start ds-leading-none')\n",
    "\n",
    "    player_links = [a['href'] for a in player_links]\n",
    "\n",
    "    batting['player_links'] = player_links[:batting.shape[0]]\n",
    "\n",
    "    return batting\n",
    "\n",
    "\n",
    "def process_bowling_table(xpath):\n",
    "    bowling = driver.find_element(By.XPATH, xpath)\n",
    "    bowling_outer_html = bowling.get_attribute('outerHTML')\n",
    "    bowling = pd.read_html(bowling_outer_html)[0]\n",
    "    bowling = bowling[~bowling['BOWLING'].str.contains('\\d', regex=True)]\n",
    "    bowling = (bowling\n",
    "               .dropna(axis=0, how='all')\n",
    "               .dropna(axis=1, how='all')\n",
    "               )\n",
    "\n",
    "    bowling_soup = BeautifulSoup(bowling_outer_html)\n",
    "\n",
    "    player_links = bowling_soup.find_all(\n",
    "        class_='ds-inline-flex ds-items-start ds-leading-none')\n",
    "\n",
    "    player_links = [a['href'] for a in player_links]\n",
    "\n",
    "    bowling['player_links'] = player_links[:bowling.shape[0]]\n",
    "\n",
    "    return bowling\n"
   ]
  },
  {
   "cell_type": "code",
   "execution_count": 4,
   "metadata": {},
   "outputs": [],
   "source": [
    "team_one_batting_xpath = \"(//table[@class='ds-w-full ds-table ds-table-md ds-table-auto  ci-scorecard-table'])[1]\"\n",
    "team_two_batting_xpath = \"(//table[@class='ds-w-full ds-table ds-table-md ds-table-auto  ci-scorecard-table'])[2]\"\n",
    "team_one_bowling_xpath = '(//table[@class=\"ds-w-full ds-table ds-table-md ds-table-auto \"])[1]'\n",
    "team_two_bowling_xpath = '(//table[@class=\"ds-w-full ds-table ds-table-md ds-table-auto \"])[2]'\n"
   ]
  },
  {
   "cell_type": "code",
   "execution_count": 5,
   "metadata": {},
   "outputs": [],
   "source": [
    "batting_outputs = []\n",
    "\n",
    "bowling_outputs = []\n",
    "\n",
    "for i,row in enumerate(df.iterrows()):\n",
    "    _, row = row\n",
    "    driver.get(row['score_card_link'])\n",
    "    # process batting\n",
    "    handle_popup() if i == 1 else None \n",
    "    batting_one_df = process_batting_table(team_one_batting_xpath)\n",
    "    batting_two_df = process_batting_table(team_two_batting_xpath)\n",
    "    batting_one_df['team_inning'] = row['team_one']\n",
    "    batting_two_df['team_inning'] = row['team_two']\n",
    "    batting_one_df['match_id'] = row['score_card']\n",
    "    batting_two_df['match_id'] = row['score_card']\n",
    "\n",
    "    # process bowling \n",
    "    bowling_one_df = process_bowling_table(team_one_bowling_xpath)\n",
    "    bowling_two_df = process_bowling_table(team_two_bowling_xpath)\n",
    "    bowling_one_df['team_inning'] = row['team_one']\n",
    "    bowling_two_df['team_inning'] = row['team_two']\n",
    "    bowling_one_df['match_id'] = row['score_card']\n",
    "    bowling_two_df['match_id'] = row['score_card']\n",
    "\n",
    "    \n",
    "    bowling_outputs.append(bowling_one_df)\n",
    "    bowling_outputs.append(bowling_two_df)\n",
    "\n",
    "    \n",
    "    batting_outputs.append(batting_one_df)\n",
    "    batting_outputs.append(batting_two_df)\n",
    "    \n",
    "    #driver.delete_all_cookies()\n"
   ]
  },
  {
   "cell_type": "code",
   "execution_count": 10,
   "metadata": {},
   "outputs": [],
   "source": [
    "pd.concat(batting_outputs).to_csv('CollectedBattingData.csv', index = None)"
   ]
  },
  {
   "cell_type": "code",
   "execution_count": 9,
   "metadata": {},
   "outputs": [],
   "source": [
    "pd.concat(bowling_outputs).to_csv('CollectedBowlingData.csv', index = None)"
   ]
  },
  {
   "cell_type": "code",
   "execution_count": null,
   "metadata": {},
   "outputs": [],
   "source": []
  }
 ],
 "metadata": {
  "kernelspec": {
   "display_name": "base",
   "language": "python",
   "name": "python3"
  },
  "language_info": {
   "codemirror_mode": {
    "name": "ipython",
    "version": 3
   },
   "file_extension": ".py",
   "mimetype": "text/x-python",
   "name": "python",
   "nbconvert_exporter": "python",
   "pygments_lexer": "ipython3",
   "version": "3.9.12"
  },
  "orig_nbformat": 4,
  "vscode": {
   "interpreter": {
    "hash": "7c7689ac5d702099295b36bed7990e63059e5bfcb996586cee0200263a0bae1a"
   }
  }
 },
 "nbformat": 4,
 "nbformat_minor": 2
}
